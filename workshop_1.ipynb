{
  "cells": [
    {
      "cell_type": "code",
      "source": [
        "!git clone https://github.com/patitimoner/workshop-chihuahua-vs-muffin.git\n",
        "\n",
        "%cd workshop-chihuahua-vs-muffin\n",
        "\n",
        "!ls"
      ],
      "metadata": {
        "colab": {
          "base_uri": "https://localhost:8080/"
        },
        "id": "kct5X21VtWQB",
        "outputId": "729994ce-d618-4de4-ffd3-5de0f0caa456"
      },
      "execution_count": 2,
      "outputs": [
        {
          "output_type": "stream",
          "name": "stdout",
          "text": [
            "Cloning into 'workshop-chihuahua-vs-muffin'...\n",
            "remote: Enumerating objects: 337, done.\u001b[K\n",
            "remote: Counting objects: 100% (7/7), done.\u001b[K\n",
            "remote: Compressing objects: 100% (6/6), done.\u001b[K\n",
            "remote: Total 337 (delta 1), reused 4 (delta 1), pack-reused 330 (from 1)\u001b[K\n",
            "Receiving objects: 100% (337/337), 14.51 MiB | 31.15 MiB/s, done.\n",
            "Resolving deltas: 100% (82/82), done.\n",
            "/content/workshop-chihuahua-vs-muffin\n",
            "'CNN_1 Chihuahua or Muffin.ipynb'   README.md   workshop_1.ipynb\n",
            " data\t\t\t\t    resources   workshop_1_output.ipynb\n"
          ]
        }
      ]
    },
    {
      "cell_type": "code",
      "source": [
        "from google.colab import drive\n",
        "drive.mount('/content/drive')"
      ],
      "metadata": {
        "colab": {
          "base_uri": "https://localhost:8080/"
        },
        "id": "O5WTQiecwKTE",
        "outputId": "863253eb-1e19-4b2f-a489-8b64d6097192"
      },
      "execution_count": 12,
      "outputs": [
        {
          "output_type": "stream",
          "name": "stdout",
          "text": [
            "Mounted at /content/drive\n"
          ]
        }
      ]
    },
    {
      "cell_type": "markdown",
      "metadata": {
        "pycharm": {},
        "id": "2bSUdqkHtQHw"
      },
      "source": [
        "# I.  Project Overview"
      ]
    },
    {
      "cell_type": "markdown",
      "metadata": {
        "id": "dCjma9P_tQHx"
      },
      "source": [
        "<center><img src=\"https://github.com/patitimoner/workshop-chihuahua-vs-muffin/blob/master/resources/preview.jpg?raw=1\" width=\"700\"></center>"
      ]
    },
    {
      "cell_type": "markdown",
      "metadata": {
        "pycharm": {},
        "id": "KGISVrXItQHx"
      },
      "source": [
        "In this project, we'll build a neural network classifier that determines: **MUFFIN... or CHIHUAHUA!**\n",
        "\n",
        "This is what we'll cover in the tutorial:\n",
        "#### 1) Build the neural network\n",
        "#### 2) Load the data\n",
        "#### 3) Train the model on the data\n",
        "#### 4) Visualize the results"
      ]
    },
    {
      "cell_type": "markdown",
      "metadata": {
        "id": "F2-G8Xa8tQHx"
      },
      "source": [
        "### Remember: This is an INTERACTIVE Notebook!\n",
        "You should run and play with the code as you go to see how it works. Select a cell and **press shift-enter to execute code.**\n",
        "\n",
        "<img src=\"https://github.com/patitimoner/workshop-chihuahua-vs-muffin/blob/master/resources/jupyter_animated.gif?raw=1\" width=\"700\">"
      ]
    },
    {
      "cell_type": "markdown",
      "metadata": {
        "pycharm": {},
        "id": "KjUZqYBTtQHx"
      },
      "source": [
        "# II.  Deep Learning Tutorial\n",
        "\n",
        "Let's get to the fun stuff!\n",
        "\n"
      ]
    },
    {
      "cell_type": "markdown",
      "metadata": {
        "id": "Ay-zPXoutQHx"
      },
      "source": [
        "<center><img src=\"https://github.com/patitimoner/workshop-chihuahua-vs-muffin/blob/master/resources/Pytorch_logo.png?raw=1\" width=\"700\"></center>"
      ]
    },
    {
      "cell_type": "markdown",
      "metadata": {
        "id": "tOXjr26itQHx"
      },
      "source": [
        "**Generic Python imports** (select the below cell and press shift-enter to execute it)"
      ]
    },
    {
      "cell_type": "code",
      "execution_count": 3,
      "metadata": {
        "id": "IdjXsYS3tQHx"
      },
      "outputs": [],
      "source": [
        "import matplotlib.pyplot as plt  # graphical library, to plot images\n",
        "# special Jupyter notebook command to show plots inline instead of in a new window\n",
        "%matplotlib inline"
      ]
    },
    {
      "cell_type": "markdown",
      "metadata": {
        "pycharm": {},
        "id": "cHPL2MQEtQHx"
      },
      "source": [
        "**Deep learning imports**"
      ]
    },
    {
      "cell_type": "code",
      "execution_count": 4,
      "metadata": {
        "pycharm": {
          "is_executing": false
        },
        "id": "D0T1cQGstQHy"
      },
      "outputs": [],
      "source": [
        "import torch                                            # PyTorch deep learning framework\n",
        "from torchvision import datasets, models, transforms    # extension to PyTorch for dataset management\n",
        "import torch.nn as nn                                   # neural networks module of PyTorch, to let us define neural network layers\n",
        "from torch.nn import functional as F                    # special functions\n",
        "import torch.optim as optim                             # optimizers"
      ]
    },
    {
      "cell_type": "markdown",
      "metadata": {
        "pycharm": {},
        "id": "U2Mkt63GtQHy"
      },
      "source": [
        "## (1) Build our Neural Network"
      ]
    },
    {
      "cell_type": "markdown",
      "metadata": {
        "id": "BFoY5MVetQHy"
      },
      "source": [
        "Recall from the lesson that a neural network generally looks like this. Input is on the left, output is on the right. The number of output neurons correspond to the number of classes.\n",
        "\n",
        "<img src=\"https://github.com/patitimoner/workshop-chihuahua-vs-muffin/blob/master/resources/what_is_nn_slide.jpg?raw=1\" width=\"700\">"
      ]
    },
    {
      "cell_type": "markdown",
      "metadata": {
        "id": "qTbJ47QZtQHy"
      },
      "source": [
        "So let's define a similar architecture for our 2-class muffin-vs-chihuahua classifier:"
      ]
    },
    {
      "cell_type": "code",
      "execution_count": 7,
      "metadata": {
        "id": "xdVju-RNtQHy"
      },
      "outputs": [],
      "source": [
        "#define image height and width\n",
        "input_height = 224\n",
        "input_width = 224\n",
        "\n",
        "# Extends PyTorch's neural network baseclass\n",
        "class MySkynet(nn.Module):\n",
        "    \"\"\"\n",
        "    A very basic neural network.\n",
        "    \"\"\"\n",
        "    def __init__(self, input_dim=(3, input_height, input_width)):\n",
        "        \"\"\"\n",
        "        Constructs a neural network.\n",
        "\n",
        "        input_dim: a tuple that represents \"channel x height x width\" dimensions of the input\n",
        "        \"\"\"\n",
        "        super().__init__()\n",
        "        # the total number of RGB pixels in an image is the tensor's volume\n",
        "        num_in_features = input_dim[0] * input_dim[1] * input_dim[2]\n",
        "        # input layer\n",
        "        self.layer_0 = nn.Linear(num_in_features, 128)\n",
        "        # hidden layers\n",
        "        self.layer_1 = nn.Linear(128, 64)\n",
        "        self.layer_2= nn.Linear(64, 32)\n",
        "        # output layer, output size of 2 for chihuahua and muffin\n",
        "        self.layer_3= nn.Linear(32, 2)\n",
        "\n",
        "    def forward(self, x):\n",
        "        \"\"\"\n",
        "        Define the forward pass through our network.\n",
        "        \"\"\"\n",
        "        batch_size = x.shape[0]\n",
        "        # convert our RGB tensor into one long vector\n",
        "        x = x.view(batch_size, -1)\n",
        "\n",
        "        # pass through our layers\n",
        "        x = F.relu(self.layer_0(x))\n",
        "        x = F.relu(self.layer_1(x))\n",
        "        x = F.relu(self.layer_2(x))\n",
        "        x = F.relu(self.layer_3(x))\n",
        "\n",
        "        # convert the raw output to probability predictions\n",
        "        x = F.softmax(x, dim=1)\n",
        "\n",
        "        return x"
      ]
    },
    {
      "cell_type": "markdown",
      "metadata": {
        "id": "jL4LXyPwtQHy"
      },
      "source": [
        "Now that we've defined the network above, let's initialize it. If available, we'll place the network on the GPU; if not, it goes on the CPU."
      ]
    },
    {
      "cell_type": "code",
      "execution_count": 10,
      "metadata": {
        "pycharm": {
          "is_executing": false
        },
        "colab": {
          "base_uri": "https://localhost:8080/"
        },
        "id": "cZ-ljlPEtQHy",
        "outputId": "1ec46d40-3956-4eaf-9b84-bd1f8b6c4680"
      },
      "outputs": [
        {
          "output_type": "execute_result",
          "data": {
            "text/plain": [
              "MySkynet(\n",
              "  (layer_0): Linear(in_features=150528, out_features=128, bias=True)\n",
              "  (layer_1): Linear(in_features=128, out_features=64, bias=True)\n",
              "  (layer_2): Linear(in_features=64, out_features=32, bias=True)\n",
              "  (layer_3): Linear(in_features=32, out_features=2, bias=True)\n",
              ")"
            ]
          },
          "metadata": {},
          "execution_count": 10
        }
      ],
      "source": [
        " # cuda:0 means the first cuda device found\n",
        "device = torch.device(\"cuda:0\" if torch.cuda.is_available() else \"cpu\")\n",
        "model = MySkynet().to(device)                      # load our simple neural network\n",
        "model"
      ]
    },
    {
      "cell_type": "markdown",
      "metadata": {
        "id": "76nsvbVftQHz"
      },
      "source": [
        "Essentially, our network looks like this:\n",
        "<img src=\"https://github.com/patitimoner/workshop-chihuahua-vs-muffin/blob/master/resources/architecture.png?raw=1\" width=\"600\">"
      ]
    },
    {
      "cell_type": "markdown",
      "metadata": {
        "pycharm": {},
        "id": "xExInm8DtQHz"
      },
      "source": [
        "## (2) Data and Data Loading"
      ]
    },
    {
      "cell_type": "markdown",
      "metadata": {
        "id": "Mhp8W4batQHz"
      },
      "source": [
        "### Separate \"train\" and \"test\" datasets\n",
        "\n",
        "Recall from the below slide, we should make two separate datasets to train and test our model. That way, we know our model learns more than rote memorization.\n",
        "\n",
        "<center><img src=\"https://github.com/patitimoner/workshop-chihuahua-vs-muffin/blob/master/resources/when_is_your_model_ready_slide.jpg?raw=1\" width=\"600\"></center>"
      ]
    },
    {
      "cell_type": "markdown",
      "metadata": {
        "id": "wpSPDlBhtQHz"
      },
      "source": [
        "### Inspect our data\n",
        "Let's look in our data folder to see what's there. As you can see, the folder is **split into \"train\" for training**, and **\"validation\" for testing** (to validate our model)."
      ]
    },
    {
      "cell_type": "code",
      "execution_count": null,
      "metadata": {
        "id": "tnqg8Ki5tQHz"
      },
      "outputs": [],
      "source": [
        "import os  # interact with the os. in our case, we want to view the file system\n",
        "\n",
        "print(\"Data contents:\", os.listdir(\"data\"))\n",
        "print(\"Train contents:\", os.listdir(\"data/train\"))\n",
        "print(\"Validation contents:\", os.listdir(\"data/validation\"))"
      ]
    },
    {
      "cell_type": "markdown",
      "metadata": {
        "id": "GNCwoC_UtQHz"
      },
      "source": [
        "Let's also look at some of the images:"
      ]
    },
    {
      "cell_type": "code",
      "execution_count": null,
      "metadata": {
        "id": "s3_4F3rgtQHz"
      },
      "outputs": [],
      "source": [
        "from PIL import Image  # import our image opening tool\n",
        "\n",
        "_, ax = plt.subplots(1, 4, figsize=(15,60))  # to show 4 images side by side, make a \"1 row x 4 column\" axes\n",
        "ax[0].imshow(Image.open(\"data/train/chihuahua/4.jpg\"))  # show the chihuahua in the first column\n",
        "ax[1].imshow(Image.open(\"data/train/chihuahua/5.jpg\"))  # show the chihuahua in the second column\n",
        "ax[2].imshow(Image.open(\"data/train/muffin/131.jpg\"))   # show the muffin in the third column\n",
        "ax[3].imshow(Image.open(\"data/train/muffin/107.jpg\"))   # show the muffin in the fourth column\n"
      ]
    },
    {
      "cell_type": "markdown",
      "metadata": {
        "pycharm": {},
        "id": "Uh8ffMZ4tQHz"
      },
      "source": [
        "If you look in the data folder on your computer, there are 120 train images and 30 validation. So our data is split like this:\n",
        "\n",
        "<img src=\"https://github.com/patitimoner/workshop-chihuahua-vs-muffin/blob/master/resources/folders.png?raw=1\" width=\"600\">"
      ]
    },
    {
      "cell_type": "markdown",
      "metadata": {
        "id": "lMZn67EXtQHz"
      },
      "source": [
        "### Load our data\n",
        "\n",
        "That's great that we have data! But we have to load all the images and convert them into a form that our neural network understands. Specifically, PyTorch works with **Tensor** objects. (A tensor is just a multidimensional matrix, i.e. an N-d array.)\n",
        "\n",
        "<img src=\"https://github.com/patitimoner/workshop-chihuahua-vs-muffin/blob/master/resources/image_to_tensor.jpg?raw=1\" width=\"550\">\n"
      ]
    },
    {
      "cell_type": "markdown",
      "metadata": {
        "id": "xswN5mDPtQHz"
      },
      "source": [
        "**To easily convert our image data into tensors, we use the help of a \"dataloader.\"** The dataloader packages data into convenient boxes for our model to use. You can think of it like one person passing boxes (tensors) to another.\n",
        "<img src=\"https://github.com/patitimoner/workshop-chihuahua-vs-muffin/blob/master/resources/dataloader_box_analogy.jpg?raw=1\" width=\"400\">"
      ]
    },
    {
      "cell_type": "markdown",
      "metadata": {
        "pycharm": {},
        "id": "8LLhGKfetQHz"
      },
      "source": [
        "**First, we define some \"transforms\" to convert images to tensors.** We must do so for both our train and validation datasets.\n",
        "\n",
        "For more information about transforms, check out the link here: https://pytorch.org/docs/stable/torchvision/transforms.html"
      ]
    },
    {
      "cell_type": "code",
      "execution_count": null,
      "metadata": {
        "pycharm": {
          "is_executing": false
        },
        "id": "iycd35QctQHz"
      },
      "outputs": [],
      "source": [
        "normalize = transforms.Normalize(mean=[0.5, 0.5, 0.5],\n",
        "                                 std=[0.5, 0.5, 0.5])\n",
        "\n",
        "# transforms for our training data\n",
        "train_transforms = transforms.Compose([\n",
        "    # resize to resnet input size\n",
        "    transforms.Resize((input_height,input_width)),\n",
        "    # transform image to PyTorch tensor object\n",
        "    transforms.ToTensor(),\n",
        "    normalize\n",
        "])\n",
        "\n",
        "# these validation transforms are exactly the same as our train transforms\n",
        "validation_transforms = transforms.Compose([\n",
        "    transforms.Resize((input_height,input_width)),\n",
        "    transforms.ToTensor(),\n",
        "    normalize\n",
        "])\n",
        "\n",
        "print(\"Train transforms:\", train_transforms)"
      ]
    },
    {
      "cell_type": "markdown",
      "metadata": {
        "id": "9roRkYtQtQHz"
      },
      "source": [
        "**Second, we create the datasets, by passing the transforms into the ImageFolder constructor.**\n",
        "\n",
        "These just represent the folders that hold the images."
      ]
    },
    {
      "cell_type": "code",
      "execution_count": null,
      "metadata": {
        "pycharm": {
          "is_executing": false
        },
        "id": "XeHv4eaDtQHz"
      },
      "outputs": [],
      "source": [
        "# insert respective transforms to replace ?\n",
        "image_datasets = {\n",
        "    'train':\n",
        "        datasets.ImageFolder('data/train', ?),\n",
        "    'validation':\n",
        "        datasets.ImageFolder('data/validation', ?)}\n",
        "\n",
        "\n",
        "print(\"==Train Dataset==\\n\", image_datasets[\"train\"])\n",
        "print()\n",
        "print(\"==Validation Dataset==\\n\", image_datasets[\"train\"])"
      ]
    },
    {
      "cell_type": "markdown",
      "metadata": {
        "id": "Lvmf8N9ftQHz"
      },
      "source": [
        "**And finally, form dataloaders from the datasets:**"
      ]
    },
    {
      "cell_type": "code",
      "execution_count": null,
      "metadata": {
        "pycharm": {
          "is_executing": false
        },
        "id": "JYGEkIzbtQHz"
      },
      "outputs": [],
      "source": [
        "# define batch size, number of images to load in at once\n",
        "\n",
        "dataloaders = {\n",
        "    'train':\n",
        "        torch.utils.data.DataLoader(\n",
        "            image_datasets['train'],\n",
        "            batch_size=?,\n",
        "            shuffle=True,\n",
        "            num_workers=4),\n",
        "    'validation':\n",
        "        torch.utils.data.DataLoader(\n",
        "            image_datasets['validation'],\n",
        "            batch_size=?,\n",
        "            shuffle=False,\n",
        "            num_workers=4)}\n",
        "\n",
        "print(\"Train loader:\", dataloaders[\"train\"])\n",
        "print(\"Validation loader:\", dataloaders[\"validation\"])"
      ]
    },
    {
      "cell_type": "markdown",
      "metadata": {
        "id": "4dZL2vYwtQHz"
      },
      "source": [
        "We can see a dataloader outputs 2 things: a BIG tensor to represent an image, and a vector to represent the labels (0 or 1)."
      ]
    },
    {
      "cell_type": "code",
      "execution_count": null,
      "metadata": {
        "pycharm": {
          "is_executing": false
        },
        "id": "DkI9QX55tQH0"
      },
      "outputs": [],
      "source": [
        "next(iter(dataloaders[\"train\"]))"
      ]
    },
    {
      "cell_type": "markdown",
      "metadata": {
        "pycharm": {},
        "id": "UiBJ1SGhtQH0"
      },
      "source": [
        "## (4) Train the model!\n",
        "\n",
        "Hurray! We've built a neural network and have data to give it. Now we **repeatedly iterate over the data to train the model.**\n",
        "\n",
        "Every time the network gets a new example, it looks something like this. Note the **forward pass** and the corresponding **backward pass**.\n",
        "\n",
        "<img src=\"https://github.com/patitimoner/workshop-chihuahua-vs-muffin/blob/master/resources/backpropagation.gif?raw=1\" width=\"700\">"
      ]
    },
    {
      "cell_type": "markdown",
      "metadata": {
        "id": "_KdGPwC4tQH0"
      },
      "source": [
        "### Define the train loop\n",
        "\n",
        "We want the network to learn from every example in our training dataset. However, the best performance comes from more practice. Therefore, we **run through our dataset for multiple *epochs*.**\n",
        "\n",
        "After each epoch, we'll check how our model performs on the validation set to monitor its progress."
      ]
    },
    {
      "cell_type": "code",
      "execution_count": null,
      "metadata": {
        "pycharm": {},
        "id": "eFUH8qS9tQH0"
      },
      "outputs": [],
      "source": [
        "from tqdm import tnrange, tqdm_notebook # import progress bars to show train progress\n",
        "\n",
        "def train_model(model, dataloaders, loss_function, optimizer, num_epochs):\n",
        "    \"\"\"\n",
        "    Trains a model using the given loss function and optimizer, for a certain number of epochs.\n",
        "\n",
        "    model: a PyTorch neural network\n",
        "    loss_function: a mathematical function that compares predictions and labels to return an error\n",
        "    num_epochs: the number of times to run through the full training dataset\n",
        "    \"\"\"\n",
        "    # train for n epochs. an epoch is a full iteration through our dataset\n",
        "    for epoch in tnrange(num_epochs, desc=\"Total progress\", unit=\"epoch\"):\n",
        "        # print a header\n",
        "        print('Epoch {}/{}'.format(epoch+1, num_epochs))\n",
        "        print('----------------')\n",
        "\n",
        "        # first train over the dataset and update weights; at the end, calculate our validation performance\n",
        "        for phase in ['train', 'validation']:\n",
        "            if phase == 'train':\n",
        "                model.train()\n",
        "            else:\n",
        "                model.eval()\n",
        "\n",
        "            # keep track of the overall loss and accuracy for this batch\n",
        "            running_loss = 0.0\n",
        "            running_corrects = 0\n",
        "\n",
        "            # iterate through the inputs and labels in our dataloader\n",
        "            # (the tqdm_notebook part is to display a progress bar)\n",
        "            for inputs, labels in tqdm_notebook(dataloaders[phase], desc=phase, unit=\"batch\", leave=False):\n",
        "                # move inputs and labels to appropriate device (GPU or CPU)\n",
        "                inputs = inputs.to(device)\n",
        "                labels = labels.to(device)\n",
        "\n",
        "                # FORWARD PASS\n",
        "                outputs = model(inputs)\n",
        "                # compute the error of the model's predictions\n",
        "                loss = loss_function(outputs, labels)\n",
        "\n",
        "                if phase == 'train':\n",
        "                    # BACKWARD PASS\n",
        "                    optimizer.zero_grad()  # clear the previous gradients\n",
        "                    loss.backward()        # backpropagate the current error gradients\n",
        "                    optimizer.step()       # update the weights (i.e. do the learning)\n",
        "\n",
        "                # track our accumulated loss\n",
        "                running_loss += loss.item() * inputs.size(0)\n",
        "                # track number of correct to compute accuracy\n",
        "                _, preds = torch.max(outputs, 1)\n",
        "                running_corrects += torch.sum(preds == labels.data)\n",
        "\n",
        "            # print our progress\n",
        "            epoch_loss = running_loss / len(image_datasets[phase])\n",
        "            epoch_acc = running_corrects.double() / len(image_datasets[phase])\n",
        "            print(f'{phase} error: {epoch_loss:.4f}, Accuracy: {epoch_acc:.4f}')\n",
        "\n",
        "        print()"
      ]
    },
    {
      "cell_type": "markdown",
      "metadata": {
        "pycharm": {},
        "id": "akYPEHJrtQH0"
      },
      "source": [
        "### Loss function and optimizer\n",
        "\n",
        "One last thing: we must define a function that gives feedback for how well the model performs. This is the **loss**, or \"error\" **function**, that compares model predictions to the true labels.\n",
        "\n",
        "Once we calculate the error, we also need to define how the model should react to that feedback. **The optimizer determines how the network learns from feedback.**"
      ]
    },
    {
      "cell_type": "code",
      "execution_count": null,
      "metadata": {
        "pycharm": {
          "is_executing": false
        },
        "id": "RetDUrh7tQH0"
      },
      "outputs": [],
      "source": [
        "loss_function = nn.CrossEntropyLoss()              # the most common error function in deep learning\n",
        "optimizer = optim.SGD(model.parameters(), lr=0.1)  # Stochastic Gradient Descent, with a learning rate of 0.1"
      ]
    },
    {
      "cell_type": "markdown",
      "metadata": {
        "id": "oqehJJUTtQH3"
      },
      "source": [
        "<img src=\"https://github.com/patitimoner/workshop-chihuahua-vs-muffin/blob/master/resources/gradient_descent.gif?raw=1\" width=\"700\">"
      ]
    },
    {
      "cell_type": "markdown",
      "metadata": {
        "pycharm": {},
        "id": "01AxxEGztQH3"
      },
      "source": [
        "### Run training\n",
        "\n",
        "Let's put everything together and TRAIN OUR MODEL! =D"
      ]
    },
    {
      "cell_type": "code",
      "execution_count": null,
      "metadata": {
        "pycharm": {},
        "id": "Jn2fkbKWtQH3"
      },
      "outputs": [],
      "source": [
        "train_model(model, dataloaders, loss_function, optimizer, num_epochs=3)"
      ]
    },
    {
      "cell_type": "markdown",
      "metadata": {
        "pycharm": {},
        "id": "7ERNivlatQH3"
      },
      "source": [
        "## Examine model performance"
      ]
    },
    {
      "cell_type": "markdown",
      "metadata": {
        "id": "ew5PHeYetQH4"
      },
      "source": [
        "<img src=\"https://github.com/patitimoner/workshop-chihuahua-vs-muffin/blob/master/resources/question_mark.jpg?raw=1\" width=\"200\" >\n",
        "\n",
        "**How do we examine our model's predictions? Let's visualize what the model thinks on the validation set.**"
      ]
    },
    {
      "cell_type": "code",
      "execution_count": null,
      "metadata": {
        "pycharm": {},
        "id": "_ylo3hn2tQH4"
      },
      "outputs": [],
      "source": [
        "from glob import glob\n",
        "from math import floor\n",
        "\n",
        "# get all the images from our validation sets\n",
        "validation_img_paths = glob(\"data/validation/**/*.jpg\", recursive=True)\n",
        "images = [Image.open(img_path) for img_path in validation_img_paths]\n",
        "\n",
        "# put all the images together to run through our model\n",
        "validation_batch = torch.stack( [validation_transforms(img).to(device) for img in images])\n",
        "pred_logits_tensor = model(validation_batch)\n",
        "pred_probs = pred_logits_tensor.cpu().data.numpy()\n",
        "\n",
        "# show the probabilities for each picture\n",
        "fig, axs = plt.subplots(6, 5, figsize=(20, 20))\n",
        "for i, img in enumerate(images):\n",
        "    ax = axs[floor(i/5)][i % 5]\n",
        "    ax.axis('off')\n",
        "    ax.set_title(\"{:.0f}% Chi, {:.0f}% Muff\".format(100*pred_probs[i,0], 100*pred_probs[i,1]), fontsize=18)\n",
        "    ax.imshow(img)"
      ]
    },
    {
      "cell_type": "markdown",
      "metadata": {
        "id": "Rr8m2zAKtQH4"
      },
      "source": [
        "**Consider:** How accurate was your model? How confident were its predictions? Does it make clear-cut decisions?\n",
        "\n",
        "## Congratulations! You've successfully trained a neural network!"
      ]
    },
    {
      "cell_type": "markdown",
      "metadata": {
        "id": "gYEjJRKgtQH4"
      },
      "source": [
        "# III.  Can You Do Better?\n",
        "\n",
        "Now that we've shown you how to train a neural network, can you improve the validation accuracy by tweaking the parameters? **We challenge you to reach 100% accuracy!**\n",
        "\n",
        "Some parameters to play with:\n",
        "- Number of epochs\n",
        "- The learning rate \"lr\" parameter in the optimizer\n",
        "- The type of optimizer (https://pytorch.org/docs/stable/optim.html)\n",
        "- Number of layers and layer dimensions\n",
        "- Image size\n",
        "- Data augmentation transforms (https://pytorch.org/docs/stable/torchvision/transforms.html)"
      ]
    },
    {
      "cell_type": "markdown",
      "metadata": {
        "pycharm": {},
        "id": "kPsOE8WitQH4"
      },
      "source": [
        "# Special Thanks!\n",
        "\n",
        "Credit for the original idea and code goes to [DeepSense.ai](https://deepsense.ai/keras-vs-pytorch-avp-transfer-learning/)!\n",
        "We've modified it significantly to cater to this workshop, and boost the visual appeal.\n",
        "\n",
        "This tutorial was created through hard work and love by Jing Zhao, Dylan Wang, Jason Do, Jason Jiang, and Andrew Jong."
      ]
    }
  ],
  "metadata": {
    "kernelspec": {
      "display_name": "Python 3",
      "language": "python",
      "name": "python3"
    },
    "language_info": {
      "codemirror_mode": {
        "name": "ipython",
        "version": 3
      },
      "file_extension": ".py",
      "mimetype": "text/x-python",
      "name": "python",
      "nbconvert_exporter": "python",
      "pygments_lexer": "ipython3",
      "version": "3.7.4"
    },
    "colab": {
      "provenance": []
    }
  },
  "nbformat": 4,
  "nbformat_minor": 0
}